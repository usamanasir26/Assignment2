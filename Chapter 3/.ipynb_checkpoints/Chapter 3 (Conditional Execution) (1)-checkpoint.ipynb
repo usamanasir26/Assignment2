{
 "cells": [
  {
   "cell_type": "markdown",
   "id": "f0503e65",
   "metadata": {},
   "source": [
    "**Chapter 3 CONDITIONAL**"
   ]
  },
  {
   "cell_type": "code",
   "execution_count": 2,
   "id": "8d0a5d9d",
   "metadata": {},
   "outputs": [
    {
     "name": "stdout",
     "output_type": "stream",
     "text": [
      "Smaller\n",
      "Finish\n"
     ]
    }
   ],
   "source": [
    "x = 5\n",
    "if x < 10:\n",
    "    print('Smaller')\n",
    "if x > 20:\n",
    "    print('Bigger')\n",
    "print('Finish')"
   ]
  },
  {
   "cell_type": "markdown",
   "id": "a722cb99",
   "metadata": {},
   "source": [
    "**Comparison Operators**"
   ]
  },
  {
   "cell_type": "code",
   "execution_count": 4,
   "id": "143177a4",
   "metadata": {},
   "outputs": [
    {
     "name": "stdout",
     "output_type": "stream",
     "text": [
      "Equals 5\n"
     ]
    }
   ],
   "source": [
    "x = 5\n",
    "if x == 5: \n",
    "    print('Equals 5')"
   ]
  },
  {
   "cell_type": "code",
   "execution_count": 5,
   "id": "4fa89e48",
   "metadata": {},
   "outputs": [
    {
     "name": "stdout",
     "output_type": "stream",
     "text": [
      "Greater than 4\n"
     ]
    }
   ],
   "source": [
    "if x > 4 : \n",
    "    print('Greater than 4')"
   ]
  },
  {
   "cell_type": "code",
   "execution_count": 6,
   "id": "201dc5a6",
   "metadata": {},
   "outputs": [
    {
     "name": "stdout",
     "output_type": "stream",
     "text": [
      "Greater than or Equals 5\n"
     ]
    }
   ],
   "source": [
    "if x >= 5 :\n",
    "    print('Greater than or Equals 5')"
   ]
  },
  {
   "cell_type": "code",
   "execution_count": 10,
   "id": "4d4ae3f8",
   "metadata": {},
   "outputs": [
    {
     "name": "stdout",
     "output_type": "stream",
     "text": [
      "Less than 6\n"
     ]
    }
   ],
   "source": [
    "if x < 6 :\n",
    "    print('Less than 6') "
   ]
  },
  {
   "cell_type": "code",
   "execution_count": 9,
   "id": "e4d80ece",
   "metadata": {},
   "outputs": [
    {
     "name": "stdout",
     "output_type": "stream",
     "text": [
      "Less than or Equals 5\n"
     ]
    }
   ],
   "source": [
    "if x <= 5 :\n",
    "    print('Less than or Equals 5')"
   ]
  },
  {
   "cell_type": "code",
   "execution_count": 8,
   "id": "b826c8c5",
   "metadata": {},
   "outputs": [
    {
     "name": "stdout",
     "output_type": "stream",
     "text": [
      "Not equal 6\n"
     ]
    }
   ],
   "source": [
    "if x != 6 :\n",
    "    print('Not equal 6')"
   ]
  },
  {
   "cell_type": "markdown",
   "id": "2e9dcae5",
   "metadata": {},
   "source": [
    "**One-Way Decisions**"
   ]
  },
  {
   "cell_type": "code",
   "execution_count": 13,
   "id": "9db43649",
   "metadata": {},
   "outputs": [
    {
     "name": "stdout",
     "output_type": "stream",
     "text": [
      "Before 5\n",
      "Is 5\n",
      "Is Still 5\n",
      "Third 5\n",
      "Afterwards 5\n",
      "Before 6\n",
      "Afterwards 6\n"
     ]
    }
   ],
   "source": [
    "x = 5\n",
    "print('Before 5')\n",
    "if x == 5 :\n",
    "    print('Is 5')\n",
    "    print('Is Still 5')\n",
    "    print('Third 5')\n",
    "print('Afterwards 5')\n",
    "print('Before 6')\n",
    "if x == 6 :\n",
    "    print('Is 6')\n",
    "    print('Is Still 6')\n",
    "    print('Third 6')\n",
    "print('Afterwards 6')"
   ]
  },
  {
   "cell_type": "code",
   "execution_count": 14,
   "id": "090e2656",
   "metadata": {},
   "outputs": [
    {
     "name": "stdout",
     "output_type": "stream",
     "text": [
      "Bigger than 2\n",
      "Still bigger\n",
      "Done with 2\n",
      "0\n",
      "Done with i 0\n",
      "1\n",
      "Done with i 1\n",
      "2\n",
      "Done with i 2\n",
      "3\n",
      "Bigger than 2\n",
      "Done with i 3\n",
      "4\n",
      "Bigger than 2\n",
      "Done with i 4\n",
      "All Done\n"
     ]
    }
   ],
   "source": [
    "x = 5\n",
    "if x > 2 :\n",
    "    print('Bigger than 2')\n",
    "    print('Still bigger')\n",
    "print('Done with 2')\n",
    "\n",
    "for i in range(5) :\n",
    "    print(i)\n",
    "    if i > 2 : \n",
    "        print('Bigger than 2')\n",
    "    print('Done with i', i)\n",
    "print('All Done')"
   ]
  },
  {
   "cell_type": "markdown",
   "id": "0618b0a3",
   "metadata": {},
   "source": [
    "**Nested Decisions**"
   ]
  },
  {
   "cell_type": "code",
   "execution_count": 15,
   "id": "9f5fa04b",
   "metadata": {},
   "outputs": [
    {
     "name": "stdout",
     "output_type": "stream",
     "text": [
      "More than one\n",
      "Less than 100\n",
      "All done\n"
     ]
    }
   ],
   "source": [
    "x = 42\n",
    "if x > 1 :\n",
    "    print('More than one')\n",
    "    if x < 100 : \n",
    "        print('Less than 100') \n",
    "print('All done')"
   ]
  },
  {
   "cell_type": "markdown",
   "id": "564d85c9",
   "metadata": {},
   "source": [
    "**Two-way Decisions with else**"
   ]
  },
  {
   "cell_type": "code",
   "execution_count": 16,
   "id": "b732646e",
   "metadata": {},
   "outputs": [
    {
     "name": "stdout",
     "output_type": "stream",
     "text": [
      "Bigger\n",
      "All done\n"
     ]
    }
   ],
   "source": [
    "x = 4\n",
    "if x > 2 :\n",
    "    print('Bigger')\n",
    "else :\n",
    "    print('Smaller')\n",
    "print('All done')"
   ]
  },
  {
   "cell_type": "markdown",
   "id": "1baaf5eb",
   "metadata": {},
   "source": [
    "**Multi-way**"
   ]
  },
  {
   "cell_type": "code",
   "execution_count": 20,
   "id": "f925ca3c",
   "metadata": {},
   "outputs": [
    {
     "name": "stdout",
     "output_type": "stream",
     "text": [
      "Medium\n",
      "All done\n"
     ]
    }
   ],
   "source": [
    "x = 4\n",
    "if x < 2 :\n",
    "    print('small')\n",
    "elif x < 10 :\n",
    "    print('Medium')\n",
    "else :\n",
    "    print('LARGE')\n",
    "print('All done')"
   ]
  },
  {
   "cell_type": "code",
   "execution_count": 19,
   "id": "6aedc032",
   "metadata": {},
   "outputs": [
    {
     "name": "stdout",
     "output_type": "stream",
     "text": [
      "small\n",
      "All done\n"
     ]
    }
   ],
   "source": [
    "x = 0\n",
    "if x < 2 :\n",
    "    print('small')\n",
    "elif x < 10 :\n",
    "    print('Medium')\n",
    "else :\n",
    "    print('LARGE')\n",
    "print('All done')"
   ]
  },
  {
   "cell_type": "code",
   "execution_count": 22,
   "id": "0f4169c4",
   "metadata": {},
   "outputs": [
    {
     "name": "stdout",
     "output_type": "stream",
     "text": [
      "LARGE\n",
      "All done\n"
     ]
    }
   ],
   "source": [
    "x = 10\n",
    "if x < 2 :\n",
    "    print('small')\n",
    "elif x < 10 :\n",
    "    print('Medium')\n",
    "else :\n",
    "    print('LARGE')\n",
    "print('All done')"
   ]
  },
  {
   "cell_type": "code",
   "execution_count": 23,
   "id": "cf1a3414",
   "metadata": {},
   "outputs": [
    {
     "name": "stdout",
     "output_type": "stream",
     "text": [
      "Medium\n",
      "All done\n"
     ]
    }
   ],
   "source": [
    "# No Else\n",
    "x = 5\n",
    "if x < 2 :\n",
    "    print('Small')\n",
    "elif x < 10 :\n",
    "    print('Medium')\n",
    "print('All done')"
   ]
  },
  {
   "cell_type": "markdown",
   "id": "e9c5dd0d",
   "metadata": {},
   "source": [
    "**Multi-way Puzzles**"
   ]
  },
  {
   "cell_type": "code",
   "execution_count": 24,
   "id": "bd1f5007",
   "metadata": {},
   "outputs": [
    {
     "name": "stdout",
     "output_type": "stream",
     "text": [
      "Two or more\n"
     ]
    }
   ],
   "source": [
    "# Which will never print regardless of the value for x?\n",
    "\n",
    "x = 5\n",
    "if x < 2 :\n",
    "    print('Below 2')\n",
    "elif x >= 2 : \n",
    "    print('Two or more')\n",
    "else :\n",
    "    print('Something else')\n"
   ]
  },
  {
   "cell_type": "code",
   "execution_count": 25,
   "id": "06140646",
   "metadata": {},
   "outputs": [
    {
     "name": "stdout",
     "output_type": "stream",
     "text": [
      "Below 20\n"
     ]
    }
   ],
   "source": [
    "if x < 2 :\n",
    "    print('Below 2')\n",
    "elif x < 20 :\n",
    "    print('Below 20')\n",
    "elif x < 10 : \n",
    "    print('Below 10')\n",
    "else :\n",
    "    print('Something else')"
   ]
  },
  {
   "cell_type": "markdown",
   "id": "35846735",
   "metadata": {},
   "source": [
    "**Try / Except Structure**"
   ]
  },
  {
   "cell_type": "code",
   "execution_count": 28,
   "id": "2497a418",
   "metadata": {},
   "outputs": [
    {
     "name": "stdout",
     "output_type": "stream",
     "text": [
      "First -1\n",
      "Second 123\n"
     ]
    }
   ],
   "source": [
    "A = 'Hello Bob'\n",
    "try:\n",
    "    B = int(A)\n",
    "except:\n",
    "    B = -1\n",
    "print('First', B)\n",
    "C = 123\n",
    "try:\n",
    "    D = int(C)\n",
    "except:\n",
    "    D = -1\n",
    "print('Second', D)"
   ]
  },
  {
   "cell_type": "code",
   "execution_count": 30,
   "id": "c92467a5",
   "metadata": {},
   "outputs": [
    {
     "name": "stdout",
     "output_type": "stream",
     "text": [
      "Hello\n",
      "Done -1\n"
     ]
    }
   ],
   "source": [
    "AA = 'Bob'\n",
    "try:\n",
    "    print('Hello') \n",
    "    BB = int(AA)\n",
    "    print('There') \n",
    "except:\n",
    "    BB = -1\n",
    "print('Done', BB)"
   ]
  },
  {
   "cell_type": "code",
   "execution_count": 33,
   "id": "8738589a",
   "metadata": {},
   "outputs": [
    {
     "name": "stdout",
     "output_type": "stream",
     "text": [
      "Enter a number:100\n",
      "Nice work\n"
     ]
    }
   ],
   "source": [
    "AAA = input('Enter a number:')\n",
    "try: \n",
    "    BBB = int(AAA)\n",
    "except: \n",
    "    BBB = -1\n",
    "if BBB > 0 : \n",
    "    print('Nice work')\n",
    "else: \n",
    "    print('Not a number')\n"
   ]
  },
  {
   "cell_type": "code",
   "execution_count": 34,
   "id": "a5b24d3c",
   "metadata": {},
   "outputs": [
    {
     "name": "stdout",
     "output_type": "stream",
     "text": [
      "Enter a number:20A\n",
      "Not a number\n"
     ]
    }
   ],
   "source": [
    "AAA = input('Enter a number:')\n",
    "try: \n",
    "    BBB = int(AAA)\n",
    "except: \n",
    "    BBB = -1\n",
    "if BBB > 0 : \n",
    "    print('Nice work')\n",
    "else: \n",
    "    print('Not a number')"
   ]
  },
  {
   "cell_type": "markdown",
   "id": "4daa1178",
   "metadata": {},
   "source": [
    "**Rewrite your pay computation to give the \n",
    "employee 1.5 times the hourly rate for hours \n",
    "worked above 40 hours**"
   ]
  },
  {
   "cell_type": "code",
   "execution_count": 45,
   "id": "9b63d53f",
   "metadata": {},
   "outputs": [
    {
     "name": "stdout",
     "output_type": "stream",
     "text": [
      "Enter hours worked: 45\n",
      "Enter hourly rate: 10\n",
      "Total pay =  475.0\n"
     ]
    }
   ],
   "source": [
    "hours_worked = float(input(\"Enter hours worked: \"))\n",
    "hourly_rate = float(input(\"Enter hourly rate: \"))\n",
    "\n",
    "if hours_worked <= 40:\n",
    "    total_pay = hours_worked * hourly_rate\n",
    "else:\n",
    "    regular_hours = 40\n",
    "    overtime_hours = hours_worked - regular_hours\n",
    "    total_pay = (regular_hours * hourly_rate) + (overtime_hours * hourly_rate * 1.5)\n",
    "\n",
    "print(\"Total pay = \", total_pay)"
   ]
  },
  {
   "cell_type": "markdown",
   "id": "6c475893",
   "metadata": {},
   "source": [
    "**Rewrite your pay program using try and except so that your program handles non-numeric input gracefully.**"
   ]
  },
  {
   "cell_type": "code",
   "execution_count": 48,
   "id": "68ac9350",
   "metadata": {},
   "outputs": [
    {
     "name": "stdout",
     "output_type": "stream",
     "text": [
      "Enter hours worked = 32\n",
      "Enter hourly rate = twenty\n",
      "Enter a Numeric Input\n",
      "Enter hours worked = fourty\n",
      "Enter a Numeric Input\n"
     ]
    }
   ],
   "source": [
    "hours_worked = input(\"Enter hours worked = \")\n",
    "hourly_rate = input(\"Enter hourly rate = \")\n",
    "try:\n",
    "    a = hourly_rate * hourly_worked\n",
    "    print(a)\n",
    "except:\n",
    "    print(\"Enter a Numeric Input\")\n",
    "hours_work = input(\"Enter hours worked = \")\n",
    "try:\n",
    "    aa = hours_work * hourly_rate\n",
    "    print(aa)\n",
    "except:\n",
    "    print(\"Enter a Numeric Input\")"
   ]
  }
 ],
 "metadata": {
  "kernelspec": {
   "display_name": "Python 3 (ipykernel)",
   "language": "python",
   "name": "python3"
  },
  "language_info": {
   "codemirror_mode": {
    "name": "ipython",
    "version": 3
   },
   "file_extension": ".py",
   "mimetype": "text/x-python",
   "name": "python",
   "nbconvert_exporter": "python",
   "pygments_lexer": "ipython3",
   "version": "3.9.13"
  }
 },
 "nbformat": 4,
 "nbformat_minor": 5
}
