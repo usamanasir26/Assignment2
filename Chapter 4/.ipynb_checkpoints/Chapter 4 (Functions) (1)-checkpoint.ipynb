{
 "cells": [
  {
   "cell_type": "markdown",
   "id": "082ac43f",
   "metadata": {},
   "source": [
    "**Chapter no 4**"
   ]
  },
  {
   "cell_type": "markdown",
   "id": "a98c3b99",
   "metadata": {},
   "source": [
    "**Stored (and reused) Steps**"
   ]
  },
  {
   "cell_type": "code",
   "execution_count": 3,
   "id": "e9ffbc61",
   "metadata": {},
   "outputs": [
    {
     "name": "stdout",
     "output_type": "stream",
     "text": [
      "Hello\n",
      "Fun\n",
      "Zip\n",
      "Hello\n",
      "Fun\n"
     ]
    }
   ],
   "source": [
    "def thing():\n",
    "    print('Hello')\n",
    "    print('Fun')\n",
    "    \n",
    "    \n",
    "thing()\n",
    "print('Zip')\n",
    "thing()"
   ]
  },
  {
   "cell_type": "code",
   "execution_count": 4,
   "id": "9d88869c",
   "metadata": {},
   "outputs": [
    {
     "name": "stdout",
     "output_type": "stream",
     "text": [
      "w\n"
     ]
    }
   ],
   "source": [
    "big = max('Hello world')\n",
    "print(big)"
   ]
  },
  {
   "cell_type": "code",
   "execution_count": 5,
   "id": "3be34eda",
   "metadata": {},
   "outputs": [
    {
     "name": "stdout",
     "output_type": "stream",
     "text": [
      " \n"
     ]
    }
   ],
   "source": [
    "tiny = min('Hello world')\n",
    "print(tiny)"
   ]
  },
  {
   "cell_type": "markdown",
   "id": "d4afaec8",
   "metadata": {},
   "source": [
    "**Type Conversion**"
   ]
  },
  {
   "cell_type": "code",
   "execution_count": 6,
   "id": "4093508a",
   "metadata": {},
   "outputs": [
    {
     "name": "stdout",
     "output_type": "stream",
     "text": [
      "0.99\n",
      "42.0\n",
      "-2.5\n"
     ]
    }
   ],
   "source": [
    "print(float(99) / 100)\n",
    "\n",
    "i = 42\n",
    "type(i)\n",
    "\n",
    "f = float(i)\n",
    "print(f)\n",
    "\n",
    "type(f)\n",
    "\n",
    "\n",
    "print(1 + 2 * float(3) / 4 - 5)"
   ]
  },
  {
   "cell_type": "markdown",
   "id": "b49c7948",
   "metadata": {},
   "source": [
    "**String \n",
    "Conversions**"
   ]
  },
  {
   "cell_type": "code",
   "execution_count": 7,
   "id": "2c0ed7c5",
   "metadata": {},
   "outputs": [
    {
     "data": {
      "text/plain": [
       "str"
      ]
     },
     "execution_count": 7,
     "metadata": {},
     "output_type": "execute_result"
    }
   ],
   "source": [
    "sval = '123'\n",
    "type(sval)"
   ]
  },
  {
   "cell_type": "code",
   "execution_count": 8,
   "id": "b6a25117",
   "metadata": {},
   "outputs": [
    {
     "ename": "TypeError",
     "evalue": "can only concatenate str (not \"int\") to str",
     "output_type": "error",
     "traceback": [
      "\u001b[1;31m---------------------------------------------------------------------------\u001b[0m",
      "\u001b[1;31mTypeError\u001b[0m                                 Traceback (most recent call last)",
      "Input \u001b[1;32mIn [8]\u001b[0m, in \u001b[0;36m<cell line: 1>\u001b[1;34m()\u001b[0m\n\u001b[1;32m----> 1\u001b[0m \u001b[38;5;28mprint\u001b[39m(\u001b[43msval\u001b[49m\u001b[43m \u001b[49m\u001b[38;5;241;43m+\u001b[39;49m\u001b[43m \u001b[49m\u001b[38;5;241;43m1\u001b[39;49m)\n",
      "\u001b[1;31mTypeError\u001b[0m: can only concatenate str (not \"int\") to str"
     ]
    }
   ],
   "source": [
    "print(sval + 1)"
   ]
  },
  {
   "cell_type": "code",
   "execution_count": null,
   "id": "f4dec419",
   "metadata": {},
   "outputs": [],
   "source": [
    "ival = int(sval)\n",
    "type(ival)"
   ]
  },
  {
   "cell_type": "code",
   "execution_count": null,
   "id": "2b88f3a1",
   "metadata": {},
   "outputs": [],
   "source": [
    " print(ival + 1)"
   ]
  },
  {
   "cell_type": "code",
   "execution_count": null,
   "id": "0e94782e",
   "metadata": {},
   "outputs": [],
   "source": [
    "nsv = 'hello bob'\n",
    "niv = int(nsv)"
   ]
  },
  {
   "cell_type": "markdown",
   "id": "724bf219",
   "metadata": {},
   "source": [
    "**Building our Own Functions**"
   ]
  },
  {
   "cell_type": "code",
   "execution_count": null,
   "id": "847d7f84",
   "metadata": {},
   "outputs": [],
   "source": [
    "def print_lyrics():\n",
    "    print(\"I'm a lumberjack, and I'm okay.\")\n",
    "    print('I sleep all night and I work all day.')"
   ]
  },
  {
   "cell_type": "code",
   "execution_count": null,
   "id": "24bddc38",
   "metadata": {},
   "outputs": [],
   "source": [
    "x = 5\n",
    "print('Hello')\n",
    "def print_lyrics():\n",
    "    print(\"I'm a lumberjack, and I'm okay.\")\n",
    "    print('I sleep all night and I work all day.')\n",
    "print('Yo')\n",
    "print_lyrics()\n",
    "x = x + 2\n",
    "print(x)"
   ]
  },
  {
   "cell_type": "markdown",
   "id": "1b87fd26",
   "metadata": {},
   "source": [
    "**Arguments**"
   ]
  },
  {
   "cell_type": "code",
   "execution_count": 9,
   "id": "f3bd8233",
   "metadata": {},
   "outputs": [],
   "source": [
    "big = max('Hello world')\n",
    "#Hello world is Argument"
   ]
  },
  {
   "cell_type": "markdown",
   "id": "8c66c545",
   "metadata": {},
   "source": [
    "**Parameters**"
   ]
  },
  {
   "cell_type": "code",
   "execution_count": 10,
   "id": "17606481",
   "metadata": {},
   "outputs": [],
   "source": [
    "def greet(lang):\n",
    "    if lang == 'es':\n",
    "        print('Hola')\n",
    "    elif lang == 'fr':\n",
    "        print('Bonjour')\n",
    "    else:\n",
    "        print('Hello')"
   ]
  },
  {
   "cell_type": "code",
   "execution_count": 11,
   "id": "7174f15f",
   "metadata": {},
   "outputs": [
    {
     "name": "stdout",
     "output_type": "stream",
     "text": [
      "Hello Glenn\n",
      "Hello Sally\n"
     ]
    }
   ],
   "source": [
    "def greet():\n",
    "    return \"Hello\"\n",
    "print(greet(), \"Glenn\")\n",
    "print(greet(), \"Sally\")"
   ]
  },
  {
   "cell_type": "markdown",
   "id": "d4e6891f",
   "metadata": {},
   "source": [
    "**Multiple Parameters / Arguments**"
   ]
  },
  {
   "cell_type": "code",
   "execution_count": 12,
   "id": "17a08627",
   "metadata": {},
   "outputs": [
    {
     "name": "stdout",
     "output_type": "stream",
     "text": [
      "8\n"
     ]
    }
   ],
   "source": [
    "def addtwo(a, b):\n",
    "    added = a + b\n",
    "    return added\n",
    "x = addtwo(3, 5)\n",
    "print(x)"
   ]
  },
  {
   "cell_type": "markdown",
   "id": "aa587cc4",
   "metadata": {},
   "source": [
    "**Rewrite your pay computation with time-and-a\u0002half for overtime and create a function called \n",
    "computepay which takes two parameters ( hours \n",
    "and rate).**"
   ]
  },
  {
   "cell_type": "code",
   "execution_count": null,
   "id": "972db6e3",
   "metadata": {},
   "outputs": [],
   "source": [
    "def computepay(hours, rate):\n",
    "    if hours <= 40:\n",
    "        pay = hours * rate\n",
    "    else:\n",
    "        regular_hours = 40\n",
    "        overtime_hours = hours - regular_hours\n",
    "        regular_pay = regular_hours * rate\n",
    "        overtime_pay = overtime_hours * (rate * 1.5)\n",
    "        pay = regular_pay + overtime_pay\n",
    "    return pay\n",
    "\n",
    "hours_worked = float(input(\"Enter hours worked: \"))\n",
    "hourly_rate = float(input(\"Enter hourly rate: \"))\n",
    "\n",
    "total_pay = computepay(hours_worked, hourly_rate)\n",
    "print(\"Total pay:\", total_pay)\n"
   ]
  },
  {
   "cell_type": "code",
   "execution_count": null,
   "id": "4e590e86",
   "metadata": {},
   "outputs": [],
   "source": []
  },
  {
   "cell_type": "code",
   "execution_count": null,
   "id": "a44b494c",
   "metadata": {},
   "outputs": [],
   "source": []
  },
  {
   "cell_type": "code",
   "execution_count": null,
   "id": "391a5316",
   "metadata": {},
   "outputs": [],
   "source": []
  },
  {
   "cell_type": "code",
   "execution_count": null,
   "id": "d2c918dd",
   "metadata": {},
   "outputs": [],
   "source": []
  },
  {
   "cell_type": "code",
   "execution_count": null,
   "id": "3fb52c32",
   "metadata": {},
   "outputs": [],
   "source": []
  },
  {
   "cell_type": "code",
   "execution_count": null,
   "id": "bbb808c9",
   "metadata": {},
   "outputs": [],
   "source": []
  }
 ],
 "metadata": {
  "kernelspec": {
   "display_name": "Python 3 (ipykernel)",
   "language": "python",
   "name": "python3"
  },
  "language_info": {
   "codemirror_mode": {
    "name": "ipython",
    "version": 3
   },
   "file_extension": ".py",
   "mimetype": "text/x-python",
   "name": "python",
   "nbconvert_exporter": "python",
   "pygments_lexer": "ipython3",
   "version": "3.9.13"
  }
 },
 "nbformat": 4,
 "nbformat_minor": 5
}
