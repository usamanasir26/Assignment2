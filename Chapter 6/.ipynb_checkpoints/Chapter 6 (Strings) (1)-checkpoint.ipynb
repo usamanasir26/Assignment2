{
 "cells": [
  {
   "cell_type": "markdown",
   "id": "299e4b89",
   "metadata": {},
   "source": [
    "**Chapter 6 \n",
    "STRINGS**"
   ]
  },
  {
   "cell_type": "markdown",
   "id": "523c760f",
   "metadata": {},
   "source": [
    "**String Data Type**"
   ]
  },
  {
   "cell_type": "code",
   "execution_count": 1,
   "id": "dbb278f8",
   "metadata": {},
   "outputs": [
    {
     "name": "stdout",
     "output_type": "stream",
     "text": [
      "Hellothere\n"
     ]
    }
   ],
   "source": [
    "str1 = \"Hello\"\n",
    "str2 = 'there'\n",
    "bob = str1 + str2\n",
    "print(bob)"
   ]
  },
  {
   "cell_type": "code",
   "execution_count": 2,
   "id": "3de5408f",
   "metadata": {},
   "outputs": [
    {
     "ename": "TypeError",
     "evalue": "can only concatenate str (not \"int\") to str",
     "output_type": "error",
     "traceback": [
      "\u001b[1;31m---------------------------------------------------------------------------\u001b[0m",
      "\u001b[1;31mTypeError\u001b[0m                                 Traceback (most recent call last)",
      "Cell \u001b[1;32mIn[2], line 2\u001b[0m\n\u001b[0;32m      1\u001b[0m str3 \u001b[38;5;241m=\u001b[39m \u001b[38;5;124m'\u001b[39m\u001b[38;5;124m123\u001b[39m\u001b[38;5;124m'\u001b[39m\n\u001b[1;32m----> 2\u001b[0m str3 \u001b[38;5;241m=\u001b[39m \u001b[43mstr3\u001b[49m\u001b[43m \u001b[49m\u001b[38;5;241;43m+\u001b[39;49m\u001b[43m \u001b[49m\u001b[38;5;241;43m1\u001b[39;49m\n",
      "\u001b[1;31mTypeError\u001b[0m: can only concatenate str (not \"int\") to str"
     ]
    }
   ],
   "source": [
    "str3 = '123'\n",
    "str3 = str3 + 1"
   ]
  },
  {
   "cell_type": "code",
   "execution_count": 3,
   "id": "b9378c13",
   "metadata": {},
   "outputs": [
    {
     "name": "stdout",
     "output_type": "stream",
     "text": [
      "124\n"
     ]
    }
   ],
   "source": [
    "x = int(str3) + 1\n",
    "print(x)"
   ]
  },
  {
   "cell_type": "markdown",
   "id": "b0c86bf0",
   "metadata": {},
   "source": [
    "**Reading and \n",
    "Converting**"
   ]
  },
  {
   "cell_type": "code",
   "execution_count": 4,
   "id": "27ef3aa8",
   "metadata": {},
   "outputs": [
    {
     "name": "stdout",
     "output_type": "stream",
     "text": [
      "Enter:Mehar\n",
      "Mehar\n"
     ]
    }
   ],
   "source": [
    "name = input('Enter:')\n",
    "print(name)"
   ]
  },
  {
   "cell_type": "code",
   "execution_count": 5,
   "id": "8df344ab",
   "metadata": {},
   "outputs": [
    {
     "name": "stdout",
     "output_type": "stream",
     "text": [
      "Enter:20\n"
     ]
    },
    {
     "ename": "TypeError",
     "evalue": "unsupported operand type(s) for -: 'str' and 'int'",
     "output_type": "error",
     "traceback": [
      "\u001b[1;31m---------------------------------------------------------------------------\u001b[0m",
      "\u001b[1;31mTypeError\u001b[0m                                 Traceback (most recent call last)",
      "Cell \u001b[1;32mIn[5], line 2\u001b[0m\n\u001b[0;32m      1\u001b[0m apple \u001b[38;5;241m=\u001b[39m \u001b[38;5;28minput\u001b[39m(\u001b[38;5;124m'\u001b[39m\u001b[38;5;124mEnter:\u001b[39m\u001b[38;5;124m'\u001b[39m)\n\u001b[1;32m----> 2\u001b[0m y \u001b[38;5;241m=\u001b[39m \u001b[43mapple\u001b[49m\u001b[43m \u001b[49m\u001b[38;5;241;43m-\u001b[39;49m\u001b[43m \u001b[49m\u001b[38;5;241;43m10\u001b[39;49m\n",
      "\u001b[1;31mTypeError\u001b[0m: unsupported operand type(s) for -: 'str' and 'int'"
     ]
    }
   ],
   "source": [
    "apple = input('Enter:')\n",
    "y = apple - 10"
   ]
  },
  {
   "cell_type": "code",
   "execution_count": 8,
   "id": "3d5ebaaa",
   "metadata": {},
   "outputs": [
    {
     "name": "stdout",
     "output_type": "stream",
     "text": [
      "Enter:100\n",
      "90\n"
     ]
    }
   ],
   "source": [
    "apple = input('Enter:')\n",
    "z = int(apple) - 10\n",
    "print(z)"
   ]
  },
  {
   "cell_type": "markdown",
   "id": "3bd5db77",
   "metadata": {},
   "source": [
    "**Looking Inside Strings**"
   ]
  },
  {
   "cell_type": "code",
   "execution_count": 9,
   "id": "22c54978",
   "metadata": {},
   "outputs": [
    {
     "name": "stdout",
     "output_type": "stream",
     "text": [
      "a\n"
     ]
    }
   ],
   "source": [
    "fruit = 'banana'\n",
    "letter = fruit[1]\n",
    "print(letter)"
   ]
  },
  {
   "cell_type": "code",
   "execution_count": 10,
   "id": "ce7ec523",
   "metadata": {},
   "outputs": [
    {
     "name": "stdout",
     "output_type": "stream",
     "text": [
      "n\n"
     ]
    }
   ],
   "source": [
    "x = 3\n",
    "w = fruit[x - 1]\n",
    "print(w)"
   ]
  },
  {
   "cell_type": "markdown",
   "id": "fe04b012",
   "metadata": {},
   "source": [
    "**A Character Too Far**"
   ]
  },
  {
   "cell_type": "code",
   "execution_count": 13,
   "id": "70c18908",
   "metadata": {},
   "outputs": [
    {
     "ename": "IndexError",
     "evalue": "string index out of range",
     "output_type": "error",
     "traceback": [
      "\u001b[1;31m---------------------------------------------------------------------------\u001b[0m",
      "\u001b[1;31mIndexError\u001b[0m                                Traceback (most recent call last)",
      "Cell \u001b[1;32mIn[13], line 2\u001b[0m\n\u001b[0;32m      1\u001b[0m zot \u001b[38;5;241m=\u001b[39m\u001b[38;5;124m'\u001b[39m\u001b[38;5;124mabc\u001b[39m\u001b[38;5;124m'\u001b[39m\n\u001b[1;32m----> 2\u001b[0m \u001b[38;5;28mprint\u001b[39m(\u001b[43mzot\u001b[49m\u001b[43m[\u001b[49m\u001b[38;5;241;43m5\u001b[39;49m\u001b[43m]\u001b[49m)\n",
      "\u001b[1;31mIndexError\u001b[0m: string index out of range"
     ]
    }
   ],
   "source": [
    "zot ='abc'\n",
    "print(zot[5])"
   ]
  },
  {
   "cell_type": "markdown",
   "id": "ea6fe373",
   "metadata": {},
   "source": [
    "**Strings Have Length**"
   ]
  },
  {
   "cell_type": "code",
   "execution_count": 14,
   "id": "2f94e265",
   "metadata": {},
   "outputs": [
    {
     "name": "stdout",
     "output_type": "stream",
     "text": [
      "6\n"
     ]
    }
   ],
   "source": [
    "fruit = 'banana'\n",
    "print(len(fruit))"
   ]
  },
  {
   "cell_type": "markdown",
   "id": "0d19fc07",
   "metadata": {},
   "source": [
    "**Looping Through Strings**"
   ]
  },
  {
   "cell_type": "code",
   "execution_count": 15,
   "id": "ad9af89c",
   "metadata": {},
   "outputs": [
    {
     "name": "stdout",
     "output_type": "stream",
     "text": [
      "0 b\n",
      "1 a\n",
      "2 n\n",
      "3 a\n",
      "4 n\n",
      "5 a\n"
     ]
    }
   ],
   "source": [
    "fruit = 'banana'\n",
    "index = 0\n",
    "while index < len(fruit): \n",
    "    letter = fruit[index]\n",
    "    print(index, letter)\n",
    "    index = index + 1"
   ]
  },
  {
   "cell_type": "code",
   "execution_count": 17,
   "id": "4858917b",
   "metadata": {},
   "outputs": [
    {
     "name": "stdout",
     "output_type": "stream",
     "text": [
      "b\n",
      "a\n",
      "n\n",
      "a\n",
      "n\n",
      "a\n"
     ]
    }
   ],
   "source": [
    "fruit = 'banana'\n",
    "for letter in fruit: \n",
    "    print(letter)"
   ]
  },
  {
   "cell_type": "markdown",
   "id": "b97c6192",
   "metadata": {},
   "source": [
    "**Looping and Counting**"
   ]
  },
  {
   "cell_type": "code",
   "execution_count": 20,
   "id": "3c42b5f3",
   "metadata": {},
   "outputs": [
    {
     "name": "stdout",
     "output_type": "stream",
     "text": [
      "3\n"
     ]
    }
   ],
   "source": [
    "word = 'banana'\n",
    "count = 0\n",
    "for letter in word :\n",
    "    if letter == 'a' :\n",
    "        count = count + 1\n",
    "print(count)"
   ]
  },
  {
   "cell_type": "markdown",
   "id": "9b4ace7b",
   "metadata": {},
   "source": [
    "**Looking Deeper into in**"
   ]
  },
  {
   "cell_type": "code",
   "execution_count": 24,
   "id": "0957f02d",
   "metadata": {},
   "outputs": [
    {
     "name": "stdout",
     "output_type": "stream",
     "text": [
      "b\n",
      "a\n",
      "n\n",
      "a\n",
      "n\n",
      "a\n"
     ]
    }
   ],
   "source": [
    "for letter in 'banana':\n",
    "    print(letter)\n",
    "\n",
    "#For is a Loop\n",
    "#Letter is an Iteration Variable\n",
    "#Banana is a 6 Character String"
   ]
  },
  {
   "cell_type": "markdown",
   "id": "36f3a1b0",
   "metadata": {},
   "source": [
    "**Slicing Strings**"
   ]
  },
  {
   "cell_type": "code",
   "execution_count": 25,
   "id": "5479b845",
   "metadata": {},
   "outputs": [
    {
     "name": "stdout",
     "output_type": "stream",
     "text": [
      "Mont\n",
      "P\n",
      "Python\n"
     ]
    }
   ],
   "source": [
    "s = 'Monty Python'\n",
    "print(s[0:4])\n",
    "\n",
    "print(s[6:7])\n",
    "\n",
    "print(s[6:20])"
   ]
  },
  {
   "cell_type": "code",
   "execution_count": 26,
   "id": "db601fa8",
   "metadata": {},
   "outputs": [
    {
     "name": "stdout",
     "output_type": "stream",
     "text": [
      "Mo\n",
      "thon\n",
      "Monty Python\n"
     ]
    }
   ],
   "source": [
    "s = 'Monty Python'\n",
    "print(s[:2])\n",
    "\n",
    "print(s[8:])\n",
    "\n",
    "print(s[:])"
   ]
  },
  {
   "cell_type": "markdown",
   "id": "cf23d6cb",
   "metadata": {},
   "source": [
    "**String Concatenation**"
   ]
  },
  {
   "cell_type": "code",
   "execution_count": 27,
   "id": "a7a8a85b",
   "metadata": {},
   "outputs": [
    {
     "name": "stdout",
     "output_type": "stream",
     "text": [
      "HelloThere\n",
      "Hello There\n"
     ]
    }
   ],
   "source": [
    "a = 'Hello'\n",
    "b = a + 'There'\n",
    "print(b)\n",
    "\n",
    "c = a + ' ' + 'There'\n",
    "print(c)"
   ]
  },
  {
   "cell_type": "markdown",
   "id": "d0f83df4",
   "metadata": {},
   "source": [
    "**Using in as a Logical Operator**"
   ]
  },
  {
   "cell_type": "code",
   "execution_count": 30,
   "id": "68c3122b",
   "metadata": {},
   "outputs": [
    {
     "data": {
      "text/plain": [
       "True"
      ]
     },
     "execution_count": 30,
     "metadata": {},
     "output_type": "execute_result"
    }
   ],
   "source": [
    "fruit = 'banana'\n",
    "'n' in fruit"
   ]
  },
  {
   "cell_type": "code",
   "execution_count": 31,
   "id": "8aaa6c3f",
   "metadata": {},
   "outputs": [
    {
     "data": {
      "text/plain": [
       "False"
      ]
     },
     "execution_count": 31,
     "metadata": {},
     "output_type": "execute_result"
    }
   ],
   "source": [
    "'m' in fruit"
   ]
  },
  {
   "cell_type": "code",
   "execution_count": 32,
   "id": "eb8e4670",
   "metadata": {},
   "outputs": [
    {
     "data": {
      "text/plain": [
       "True"
      ]
     },
     "execution_count": 32,
     "metadata": {},
     "output_type": "execute_result"
    }
   ],
   "source": [
    "'nan' in fruit"
   ]
  },
  {
   "cell_type": "code",
   "execution_count": 33,
   "id": "2b1b9d87",
   "metadata": {},
   "outputs": [
    {
     "name": "stdout",
     "output_type": "stream",
     "text": [
      "Found it!\n"
     ]
    }
   ],
   "source": [
    "if 'a' in fruit :\n",
    "    print('Found it!')"
   ]
  },
  {
   "cell_type": "markdown",
   "id": "f66cc762",
   "metadata": {},
   "source": [
    "**String Comparison**"
   ]
  },
  {
   "cell_type": "code",
   "execution_count": 37,
   "id": "093b8749",
   "metadata": {},
   "outputs": [
    {
     "name": "stdout",
     "output_type": "stream",
     "text": [
      "All right, bananas.\n",
      "All right, bananas.\n"
     ]
    }
   ],
   "source": [
    "if word == 'banana':\n",
    "    print('All right, bananas.')\n",
    "if word < 'banana':\n",
    "    print('Your word,' + word + ', comes before banana.')\n",
    "elif word > 'banana':\n",
    "    print('Your word,' + word + ', comes after banana.')\n",
    "else:\n",
    "    print('All right, bananas.')"
   ]
  },
  {
   "cell_type": "markdown",
   "id": "c5d82ced",
   "metadata": {},
   "source": [
    "**String Library**"
   ]
  },
  {
   "cell_type": "code",
   "execution_count": 38,
   "id": "073e5a2e",
   "metadata": {},
   "outputs": [
    {
     "name": "stdout",
     "output_type": "stream",
     "text": [
      "hello bob\n",
      "Hello Bob\n",
      "hi there\n"
     ]
    }
   ],
   "source": [
    "greet = 'Hello Bob'\n",
    "zap = greet.lower()\n",
    "print(zap)\n",
    "\n",
    "print(greet)\n",
    "print('Hi There'.lower())"
   ]
  },
  {
   "cell_type": "code",
   "execution_count": 39,
   "id": "0be36b20",
   "metadata": {},
   "outputs": [
    {
     "data": {
      "text/plain": [
       "str"
      ]
     },
     "execution_count": 39,
     "metadata": {},
     "output_type": "execute_result"
    }
   ],
   "source": [
    "stuff = 'Hello world'\n",
    "type(stuff)"
   ]
  },
  {
   "cell_type": "code",
   "execution_count": 40,
   "id": "439c7ec2",
   "metadata": {},
   "outputs": [
    {
     "data": {
      "text/plain": [
       "['__add__',\n",
       " '__class__',\n",
       " '__contains__',\n",
       " '__delattr__',\n",
       " '__dir__',\n",
       " '__doc__',\n",
       " '__eq__',\n",
       " '__format__',\n",
       " '__ge__',\n",
       " '__getattribute__',\n",
       " '__getitem__',\n",
       " '__getnewargs__',\n",
       " '__getstate__',\n",
       " '__gt__',\n",
       " '__hash__',\n",
       " '__init__',\n",
       " '__init_subclass__',\n",
       " '__iter__',\n",
       " '__le__',\n",
       " '__len__',\n",
       " '__lt__',\n",
       " '__mod__',\n",
       " '__mul__',\n",
       " '__ne__',\n",
       " '__new__',\n",
       " '__reduce__',\n",
       " '__reduce_ex__',\n",
       " '__repr__',\n",
       " '__rmod__',\n",
       " '__rmul__',\n",
       " '__setattr__',\n",
       " '__sizeof__',\n",
       " '__str__',\n",
       " '__subclasshook__',\n",
       " 'capitalize',\n",
       " 'casefold',\n",
       " 'center',\n",
       " 'count',\n",
       " 'encode',\n",
       " 'endswith',\n",
       " 'expandtabs',\n",
       " 'find',\n",
       " 'format',\n",
       " 'format_map',\n",
       " 'index',\n",
       " 'isalnum',\n",
       " 'isalpha',\n",
       " 'isascii',\n",
       " 'isdecimal',\n",
       " 'isdigit',\n",
       " 'isidentifier',\n",
       " 'islower',\n",
       " 'isnumeric',\n",
       " 'isprintable',\n",
       " 'isspace',\n",
       " 'istitle',\n",
       " 'isupper',\n",
       " 'join',\n",
       " 'ljust',\n",
       " 'lower',\n",
       " 'lstrip',\n",
       " 'maketrans',\n",
       " 'partition',\n",
       " 'removeprefix',\n",
       " 'removesuffix',\n",
       " 'replace',\n",
       " 'rfind',\n",
       " 'rindex',\n",
       " 'rjust',\n",
       " 'rpartition',\n",
       " 'rsplit',\n",
       " 'rstrip',\n",
       " 'split',\n",
       " 'splitlines',\n",
       " 'startswith',\n",
       " 'strip',\n",
       " 'swapcase',\n",
       " 'title',\n",
       " 'translate',\n",
       " 'upper',\n",
       " 'zfill']"
      ]
     },
     "execution_count": 40,
     "metadata": {},
     "output_type": "execute_result"
    }
   ],
   "source": [
    "dir(stuff)"
   ]
  },
  {
   "cell_type": "markdown",
   "id": "9da8439f",
   "metadata": {},
   "source": [
    "**Searching a String**"
   ]
  },
  {
   "cell_type": "code",
   "execution_count": 41,
   "id": "d9233076",
   "metadata": {},
   "outputs": [
    {
     "name": "stdout",
     "output_type": "stream",
     "text": [
      "2\n"
     ]
    }
   ],
   "source": [
    "fruit = 'banana'\n",
    "pos = fruit.find('na')\n",
    "print(pos)"
   ]
  },
  {
   "cell_type": "code",
   "execution_count": 42,
   "id": "77c494eb",
   "metadata": {},
   "outputs": [
    {
     "name": "stdout",
     "output_type": "stream",
     "text": [
      "-1\n"
     ]
    }
   ],
   "source": [
    "aa = fruit.find('z')\n",
    "print(aa)"
   ]
  },
  {
   "cell_type": "markdown",
   "id": "c8d8794a",
   "metadata": {},
   "source": [
    "**Making everything UPPER CASE**"
   ]
  },
  {
   "cell_type": "code",
   "execution_count": 43,
   "id": "39558718",
   "metadata": {},
   "outputs": [
    {
     "name": "stdout",
     "output_type": "stream",
     "text": [
      "HELLO BOB\n"
     ]
    }
   ],
   "source": [
    "greet = 'Hello Bob'\n",
    "nnn = greet.upper()\n",
    "print(nnn)"
   ]
  },
  {
   "cell_type": "code",
   "execution_count": 44,
   "id": "87ccd96f",
   "metadata": {},
   "outputs": [
    {
     "name": "stdout",
     "output_type": "stream",
     "text": [
      "hello bob\n"
     ]
    }
   ],
   "source": [
    "www = greet.lower()\n",
    "print(www)"
   ]
  },
  {
   "cell_type": "markdown",
   "id": "16b75c66",
   "metadata": {},
   "source": [
    "**Search and Replace**"
   ]
  },
  {
   "cell_type": "code",
   "execution_count": 45,
   "id": "626cb5f9",
   "metadata": {},
   "outputs": [
    {
     "name": "stdout",
     "output_type": "stream",
     "text": [
      "Hello Jane\n"
     ]
    }
   ],
   "source": [
    "greet = 'Hello Bob'\n",
    "nstr = greet.replace('Bob','Jane')\n",
    "print(nstr)"
   ]
  },
  {
   "cell_type": "code",
   "execution_count": 46,
   "id": "fb2bfada",
   "metadata": {},
   "outputs": [
    {
     "name": "stdout",
     "output_type": "stream",
     "text": [
      "HellX BXb\n"
     ]
    }
   ],
   "source": [
    "nstr = greet.replace('o','X')\n",
    "print(nstr)"
   ]
  },
  {
   "cell_type": "markdown",
   "id": "3064c072",
   "metadata": {},
   "source": [
    "**Stripping Whitespace**"
   ]
  },
  {
   "cell_type": "markdown",
   "id": "13a1a785",
   "metadata": {},
   "source": [
    "**lstrip() and rstrip() remove whitespace at the left or right**\n",
    "\n",
    "**strip() removes both beginning and ending whitespace**"
   ]
  },
  {
   "cell_type": "code",
   "execution_count": 50,
   "id": "639a2482",
   "metadata": {},
   "outputs": [
    {
     "data": {
      "text/plain": [
       "'Hello Bob '"
      ]
     },
     "execution_count": 50,
     "metadata": {},
     "output_type": "execute_result"
    }
   ],
   "source": [
    "greet = ' Hello Bob '\n",
    "greet.lstrip()"
   ]
  },
  {
   "cell_type": "code",
   "execution_count": 51,
   "id": "6734fe6f",
   "metadata": {},
   "outputs": [
    {
     "data": {
      "text/plain": [
       "' Hello Bob'"
      ]
     },
     "execution_count": 51,
     "metadata": {},
     "output_type": "execute_result"
    }
   ],
   "source": [
    "greet.rstrip()"
   ]
  },
  {
   "cell_type": "code",
   "execution_count": 52,
   "id": "175a7472",
   "metadata": {},
   "outputs": [
    {
     "data": {
      "text/plain": [
       "'Hello Bob'"
      ]
     },
     "execution_count": 52,
     "metadata": {},
     "output_type": "execute_result"
    }
   ],
   "source": [
    "greet.strip()"
   ]
  },
  {
   "cell_type": "markdown",
   "id": "f31bd531",
   "metadata": {},
   "source": [
    "**Prefixes**"
   ]
  },
  {
   "cell_type": "code",
   "execution_count": 54,
   "id": "39852ca4",
   "metadata": {},
   "outputs": [
    {
     "data": {
      "text/plain": [
       "True"
      ]
     },
     "execution_count": 54,
     "metadata": {},
     "output_type": "execute_result"
    }
   ],
   "source": [
    "line = 'Please have a nice day'\n",
    "line.startswith('Please')"
   ]
  },
  {
   "cell_type": "code",
   "execution_count": 55,
   "id": "b6c76c6c",
   "metadata": {},
   "outputs": [
    {
     "data": {
      "text/plain": [
       "False"
      ]
     },
     "execution_count": 55,
     "metadata": {},
     "output_type": "execute_result"
    }
   ],
   "source": [
    "line.startswith('p')"
   ]
  },
  {
   "cell_type": "markdown",
   "id": "b9dcedb7",
   "metadata": {},
   "source": [
    "**Parsing and Extracting**"
   ]
  },
  {
   "cell_type": "code",
   "execution_count": 56,
   "id": "6a83dd0f",
   "metadata": {},
   "outputs": [
    {
     "name": "stdout",
     "output_type": "stream",
     "text": [
      "21\n",
      "31\n",
      "uct.ac.za\n"
     ]
    }
   ],
   "source": [
    "data = 'From stephen.marquard@uct.ac.za Sat Jan 5 09:14:16 2008'\n",
    "atpos = data.find('@')\n",
    "print(atpos)\n",
    "\n",
    "sppos = data.find(' ',atpos)\n",
    "print(sppos)\n",
    "\n",
    "host = data[atpos+1 : sppos]\n",
    "print(host)"
   ]
  },
  {
   "cell_type": "markdown",
   "id": "026652dc",
   "metadata": {},
   "source": [
    "**Two Kinds of String**"
   ]
  },
  {
   "cell_type": "markdown",
   "id": "bb297053",
   "metadata": {},
   "source": [
    "In Python 3, all strings are Unicode"
   ]
  }
 ],
 "metadata": {
  "kernelspec": {
   "display_name": "Python 3 (ipykernel)",
   "language": "python",
   "name": "python3"
  },
  "language_info": {
   "codemirror_mode": {
    "name": "ipython",
    "version": 3
   },
   "file_extension": ".py",
   "mimetype": "text/x-python",
   "name": "python",
   "nbconvert_exporter": "python",
   "pygments_lexer": "ipython3",
   "version": "3.9.13"
  }
 },
 "nbformat": 4,
 "nbformat_minor": 5
}
